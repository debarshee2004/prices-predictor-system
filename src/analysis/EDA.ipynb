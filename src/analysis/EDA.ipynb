{
 "cells": [
  {
   "cell_type": "markdown",
   "metadata": {},
   "source": [
    "Exploratory Data Analysis (EDA) is a data science method that helps data scientists understand and analyze data sets"
   ]
  },
  {
   "cell_type": "code",
   "execution_count": 1,
   "metadata": {},
   "outputs": [],
   "source": [
    "import pandas as pd\n",
    "import numpy as np\n",
    "\n",
    "from analyze_src.basic_data_inspection import DataInspector, DataTypesInspectionStrategy, SummaryStatisticsInspectionStrategy\n",
    "from analyze_src.missing_values_analysis import SimpleMissingValuesAnalysis\n",
    "from analyze_src.univariate_analysis import UnivariateAnalyzer, NumericalUnivariateAnalysis, CategoricalUnivariateAnalysis\n",
    "from analyze_src.bivariate_analysis import BivariateAnalyzer, NumericalVsNumericalAnalysis, CategoricalVsNumericalAnalysis\n",
    "from analyze_src.multivariate_analysis import SimpleMultivariateAnalysis\n",
    "\n",
    "# Set display options for better readability\n",
    "pd.set_option('display.max_columns', None)\n",
    "pd.set_option('display.max_rows', 100)"
   ]
  },
  {
   "cell_type": "code",
   "execution_count": 2,
   "metadata": {},
   "outputs": [],
   "source": [
    "# Load the data\n",
    "# Assuming you have already extracted the data into the 'extracted-data' folder\n",
    "\n",
    "data_path = \"../data/extracted_data/AmesHousing.csv\"\n",
    "df = pd.read_csv(data_path)"
   ]
  },
  {
   "cell_type": "code",
   "execution_count": null,
   "metadata": {},
   "outputs": [],
   "source": [
    "# Step 1: Basic Data Inspection\n",
    "# ------------------------------------\n",
    "# Initialize the Data Inspector with a strategy for Data Types Inspection\n",
    "data_inspector = DataInspector(DataTypesInspectionStrategy())\n",
    "data_inspector.execute_inspection(df)"
   ]
  },
  {
   "cell_type": "code",
   "execution_count": null,
   "metadata": {},
   "outputs": [],
   "source": [
    "# Switch strategy to Summary Statistics Inspection\n",
    "data_inspector.set_strategy(SummaryStatisticsInspectionStrategy())\n",
    "data_inspector.execute_inspection(df)"
   ]
  },
  {
   "cell_type": "code",
   "execution_count": null,
   "metadata": {},
   "outputs": [],
   "source": [
    "# Step 2: Missing Values Analysis\n",
    "# ------------------------------------\n",
    "# Perform Missing Values Analysis\n",
    "missing_values_analyzer = SimpleMissingValuesAnalysis()\n",
    "missing_values_analyzer.analyze(df)"
   ]
  },
  {
   "attachments": {},
   "cell_type": "markdown",
   "metadata": {},
   "source": [
    "# Missing Values Heatmap Insights\n",
    "\n",
    "#### **1. Colors Represent Missingness:**\n",
    "- **Yellow**: Represents missing values. The more yellow you see in a column, the more missing data is present in that particular feature.\n",
    "- **Purple (or dark color)**: Represents non-missing values. Columns that are mostly purple indicate that most of the data is present for that feature.\n",
    "\n",
    "#### **2. Identifying Columns with Missing Data:**\n",
    "- Look for columns with significant amounts of yellow. These columns have a higher proportion of missing data.\n",
    "  - For instance, in your heatmap, columns like `Lot Frontage`, `Mas Vnr Type`, `Mas Vnr Area`, `Garage Yr Blt`, and `Pool Area` have substantial yellow, indicating that these features have missing values.\n",
    "\n",
    "#### **3. Understanding the Distribution of Missing Data:**\n",
    "- **Randomly Distributed**: If the yellow marks are scattered without any noticeable pattern, it suggests that the missing data might be randomly distributed.\n",
    "- **Structured Missingness**: If the yellow is clustered in certain rows or columns, it might indicate a non-random pattern of missingness. For example, entire rows or columns missing could suggest a data collection issue or that these features are not applicable in certain cases.\n",
    "\n",
    "#### **4. Assessing the Severity:**\n",
    "- Columns with more yellow indicate a higher proportion of missing values, which might pose a problem for model building. This could lead to biased or inaccurate models if not handled properly.\n",
    "  - In your heatmap, some columns have little to no missing values, while others have substantial missingness. Decisions will need to be made on whether to impute, drop, or handle these features differently."
   ]
  },
  {
   "attachments": {},
   "cell_type": "markdown",
   "metadata": {},
   "source": [
    "# Insights \n",
    "\n",
    "\n",
    "#### **1. Data Types and Non-null Counts:**\n",
    "- The dataset contains **2930 entries** and **82 columns**.\n",
    "- **Data Types**: There are 11 columns with `float64` data type, 28 columns with `int64` data type, and 43 columns with `object` data type.\n",
    "  - **Numerical Features**: These include features like `Lot Frontage`, `Lot Area`, `Overall Qual`, `Year Built`, etc.\n",
    "  - **Categorical Features**: Features like `MS Zoning`, `Street`, `Neighborhood`, `Bldg Type`, etc., are categorical.\n",
    "\n",
    "#### **2. Summary Statistics:**\n",
    "- **Numerical Features**:\n",
    "  - The target variable `SalePrice` has a mean of **$180,796** with a standard deviation of **$79,886**, indicating a significant spread in house prices.\n",
    "  - `Overall Qual` (quality of the house) ranges from **1 to 10**, with a mean of **6.09**, showing a relatively high quality on average.\n",
    "  - `Year Built` ranges from **1872 to 2010**, indicating that the dataset includes both very old and relatively new houses.\n",
    "  - `Lot Area` has a wide range, with some extreme outliers (maximum of **215,245 sq ft**), which might indicate large properties.\n",
    "  - The distribution of `Gr Liv Area` (above ground living area) shows a mean of **1499 sq ft** with a wide range, which could significantly impact `SalePrice`.\n",
    "\n",
    "- **Categorical Features**:\n",
    "  - **Neighborhood** has **28 unique values**, with `NAmes` being the most common, suggesting some neighborhoods might dominate the dataset.\n",
    "  - **MS Zoning** is mostly `RL` (residential low-density), with **7 unique zoning types**.\n",
    "  - `Alley` has a high frequency of missing values (discussed below).\n",
    "  - Several features related to basements, garages, and exterior quality vary significantly, which will be crucial in predicting `SalePrice`.\n",
    "\n",
    "#### **3. Missing Values Analysis:**\n",
    "- **Columns with Significant Missing Values**:\n",
    "  - `Alley` has **2732 missing values** (93.4% missing), making it almost unusable without imputation or transformation.\n",
    "  - `Pool QC` (pool quality) has **2917 missing values** (99.5% missing), indicating that very few houses have pools.\n",
    "  - `Fence` has **2358 missing values** (80.5% missing), suggesting that many houses do not have a fence or it was not recorded.\n",
    "  - `Misc Feature` has **2824 missing values** (96.4% missing), indicating that most houses do not have miscellaneous features, or they were not recorded.\n",
    "\n",
    "- **Columns with Moderate Missing Values**:\n",
    "  - `Garage Type`, `Garage Yr Blt`, `Garage Finish`, `Garage Qual`, `Garage Cond` each have **159 missing values** (~5.4%), likely corresponding to houses without garages.\n",
    "  - `Bsmt Qual`, `Bsmt Cond`, `Bsmt Exposure`, `BsmtFin Type 1`, `BsmtFin Type 2` each have **around 80 missing values** (~2.7%), likely representing houses without basements.\n",
    "  - `Mas Vnr Type` (masonry veneer type) has **1775 missing values** (~60.6%), and `Mas Vnr Area` has **23 missing values**. This might indicate many houses do not have masonry veneer.\n",
    "\n",
    "- **Single Missing Values**:\n",
    "  - Several features, such as `BsmtFin SF 1`, `Total Bsmt SF`, `Electrical`, `Garage Cars`, `Garage Area`, etc., have only one or two missing values, which can likely be imputed without much impact.\n",
    "\n",
    "### **Issues to be Addressed Later**\n",
    "\n",
    "1. **Handling Missing Data:**\n",
    "   - **Significant Missing Values**: Columns like `Alley`, `Pool QC`, `Fence`, and `Misc Feature` have a very high percentage of missing data. Decisions need to be made whether to:\n",
    "     - Drop these columns entirely, as they might not add significant value.\n",
    "     - Impute missing values with a placeholder (e.g., \"None\" or \"No Pool\") to retain them in the analysis.\n",
    "   - **Moderate Missing Values**: Features related to basements and garages will require careful handling. Missing values could be filled with \"No Basement\" or \"No Garage\" for categorical features, and zeros for numerical ones.\n",
    "   - **Single Missing Values**: These can likely be filled with the mode or mean for categorical and numerical features, respectively.\n",
    "\n",
    "2. **Outlier Detection and Handling**:\n",
    "   - Features like `Lot Area`, `Gr Liv Area`, and `SalePrice` show a significant range, indicating potential outliers. These will need to be detected and handled appropriately to avoid skewing model predictions.\n",
    "\n",
    "3. **Categorical Encoding**:\n",
    "   - Categorical features like `Neighborhood`, `MS Zoning`, `Bldg Type`, and `Exterior 1st` have many unique values. Decisions need to be made on how to encode these (e.g., one-hot encoding, label encoding, or frequency encoding) based on their relationship with the target variable.\n",
    "\n",
    "4. **Feature Engineering**:\n",
    "   - Based on the insights, certain features might need to be engineered (e.g., combining related features, creating interaction terms, or transforming skewed features) to better capture the relationships in the data.\n",
    "\n",
    "5. **Correlation and Multicollinearity**:\n",
    "   - Initial correlation analysis suggests that some features might be highly correlated with each other (e.g., basement-related features). This could lead to multicollinearity issues, which need to be addressed during feature selection."
   ]
  },
  {
   "cell_type": "code",
   "execution_count": null,
   "metadata": {},
   "outputs": [],
   "source": [
    "# Step 3: Univariate Analysis\n",
    "# -----------------------------------\n",
    "# Analyzing a Numerical Feature\n",
    "univariate_analyzer = UnivariateAnalyzer(NumericalUnivariateAnalysis())\n",
    "univariate_analyzer.execute_analysis(df, 'SalePrice')"
   ]
  },
  {
   "cell_type": "code",
   "execution_count": null,
   "metadata": {},
   "outputs": [],
   "source": [
    "# Analyzing a Categorical Feature\n",
    "univariate_analyzer.set_strategy(CategoricalUnivariateAnalysis())\n",
    "univariate_analyzer.execute_analysis(df, 'Neighborhood')\n"
   ]
  },
  {
   "cell_type": "code",
   "execution_count": null,
   "metadata": {},
   "outputs": [],
   "source": [
    "# Step 4: Bivariate Analysis\n",
    "# -----------------------------------\n",
    "# Analyzing the Relationship Between Two Numerical Features\n",
    "bivariate_analyzer = BivariateAnalyzer(NumericalVsNumericalAnalysis())\n",
    "bivariate_analyzer.execute_analysis(df, 'Gr Liv Area', 'SalePrice')\n"
   ]
  },
  {
   "cell_type": "code",
   "execution_count": null,
   "metadata": {},
   "outputs": [],
   "source": [
    "# Analyzing the Relationship Between a Categorical and a Numerical Feature\n",
    "bivariate_analyzer.set_strategy(CategoricalVsNumericalAnalysis())\n",
    "bivariate_analyzer.execute_analysis(df, 'Overall Qual', 'SalePrice')"
   ]
  },
  {
   "attachments": {},
   "cell_type": "markdown",
   "metadata": {},
   "source": [
    "### **Insights from Univariate and Bivariate Analysis**\n",
    "\n",
    "#### **Step 3: Univariate Analysis**\n",
    "\n",
    "1. **SalePrice Distribution (Numerical Feature)**:\n",
    "   - **Insight**: The distribution of `SalePrice` is positively skewed, with the majority of house prices falling between $100,000 and $250,000. The peak frequency is around the $200,000 mark.\n",
    "   - **Implication**: This skewness suggests that most homes in the dataset are relatively affordable, with fewer high-end properties. The long tail on the right side indicates a small number of more expensive homes, which may need special consideration during modeling (e.g., applying a log transformation to normalize the distribution).\n",
    "\n",
    "2. **Neighborhood Distribution (Categorical Feature)**:\n",
    "   - **Insight**: The `Neighborhood` feature shows a varied distribution, with `NAmes` being the most common neighborhood, followed by `CollgCr` and `OldTown`. Some neighborhoods have very few observations.\n",
    "   - **Implication**: The high frequency of certain neighborhoods suggests that these areas could significantly influence overall housing prices. Neighborhoods with fewer observations might require careful handling to avoid overfitting during model training, potentially using techniques like frequency encoding or grouping similar neighborhoods together.\n",
    "\n",
    "#### **Step 4: Bivariate Analysis**\n",
    "\n",
    "1. **Gr Liv Area vs. SalePrice (Numerical vs. Numerical)**:\n",
    "   - **Insight**: There is a strong positive correlation between `Gr Liv Area` (Above Ground Living Area) and `SalePrice`, indicating that larger homes generally sell for higher prices. The relationship appears mostly linear, but there are a few outliers, especially at higher `Gr Liv Area` values.\n",
    "   - **Implication**: This linear relationship confirms that `Gr Liv Area` is likely a strong predictor of `SalePrice`. However, the presence of outliers (large homes with lower than expected prices) might require further investigation to determine whether they should be treated or removed.\n",
    "\n",
    "2. **Overall Qual vs. SalePrice (Categorical vs. Numerical)**:\n",
    "   - **Insight**: There is a clear positive relationship between `Overall Qual` (Overall Quality) and `SalePrice`, with higher quality ratings associated with significantly higher prices. The box plot shows increasing medians and ranges as quality improves, with some variability in each category.\n",
    "   - **Implication**: `Overall Qual` is another strong predictor of `SalePrice`. The consistent increase in sale price with higher quality ratings suggests that homebuyers highly value quality. The variability within each category might be due to other factors influencing price, such as location or specific features not captured by `Overall Qual`.\n",
    "\n",
    "### **Summary**:\n",
    "- **Key Predictors**: Both `Gr Liv Area` and `Overall Qual` are strong predictors of `SalePrice`. These features should be emphasized in any predictive models.\n",
    "- **Data Distribution**: The positive skew in `SalePrice` and the wide range of values for both `Gr Liv Area` and `Overall Qual` indicate the need for careful data preprocessing, including potential normalization or transformation of features.\n",
    "- **Outliers**: Outliers in the relationship between `Gr Liv Area` and `SalePrice` need to be examined closely, as they may represent special cases (e.g., luxury homes) that could skew the model if not properly addressed."
   ]
  },
  {
   "cell_type": "code",
   "execution_count": null,
   "metadata": {},
   "outputs": [],
   "source": [
    "\n",
    "# Step 5: Multivariate Analysis\n",
    "# ------------------------------\n",
    "# Perform Multivariate Analysis\n",
    "\n",
    "# Initialize the MultivariateAnalyzer with the SimpleMultivariateAnalysis strategy\n",
    "multivariate_analyzer = SimpleMultivariateAnalysis()\n",
    "\n",
    "# Select important features for the analysis\n",
    "selected_features = df[['SalePrice', 'Gr Liv Area', 'Overall Qual', 'Total Bsmt SF', 'Year Built']]\n",
    "\n",
    "# Execute the multivariate analysis\n",
    "multivariate_analyzer.analyze(selected_features)\n"
   ]
  },
  {
   "attachments": {},
   "cell_type": "markdown",
   "metadata": {},
   "source": [
    "### **Insights from Multivariate Analysis**\n",
    "\n",
    "#### **Correlation Heatmap:**\n",
    "1. **SalePrice and Overall Qual**:\n",
    "   - **Insight**: The highest correlation observed is between `SalePrice` and `Overall Qual` (0.80). This strong positive correlation indicates that the overall quality of the house is a significant determinant of its price. \n",
    "   - **Implication**: `Overall Qual` should be considered a key predictor in the model. The high correlation suggests that this feature explains a substantial portion of the variance in house prices.\n",
    "\n",
    "2. **SalePrice and Gr Liv Area**:\n",
    "   - **Insight**: The correlation between `SalePrice` and `Gr Liv Area` (0.71) is also strong, indicating that larger homes generally have higher sale prices.\n",
    "   - **Implication**: Similar to `Overall Qual`, `Gr Liv Area` is another critical predictor of `SalePrice`. This relationship aligns with the expectation that more living space increases a property's value.\n",
    "\n",
    "3. **Total Bsmt SF**:\n",
    "   - **Insight**: The correlation between `Total Bsmt SF` and `SalePrice` (0.63) is moderate, suggesting that the size of the basement contributes to the overall value but not as strongly as living area or quality.\n",
    "   - **Implication**: `Total Bsmt SF` is an important feature, but it may require further exploration or interaction with other features to capture its full effect.\n",
    "\n",
    "4. **Year Built**:\n",
    "   - **Insight**: `Year Built` has a lower correlation with `SalePrice` (0.56). While newer homes tend to sell for more, this relationship is less pronounced than those with living area or quality.\n",
    "   - **Implication**: The age of the house is a relevant factor but might be more meaningful when combined with other features like `Overall Qual` or `Remod/Add Year`.\n",
    "\n",
    "#### **Pair Plot:**\n",
    "1. **Linear Relationships**:\n",
    "   - **Insight**: The pair plots confirm linear relationships between `SalePrice` and both `Gr Liv Area` and `Total Bsmt SF`, supporting their inclusion as linear predictors in the model.\n",
    "   - **Implication**: These linear relationships suggest that linear models (or transformations) could effectively capture these predictors' contributions to `SalePrice`.\n",
    "\n",
    "2. **Discrete Distribution of Overall Qual**:\n",
    "   - **Insight**: `Overall Qual` appears as a discrete variable in the pair plots, with significant gaps between categories. This suggests that it is more ordinal in nature.\n",
    "   - **Implication**: Given its ordinal nature, `Overall Qual` might be better treated as a categorical variable with ordered categories. This could improve the interpretability and performance of the model.\n",
    "\n",
    "3. **Potential Multicollinearity**:\n",
    "   - **Insight**: The strong correlations between `Gr Liv Area`, `Overall Qual`, and `Total Bsmt SF` suggest potential multicollinearity, which could inflate variance in model coefficients.\n",
    "   - **Implication**: Multicollinearity should be checked using Variance Inflation Factor (VIF) analysis. If multicollinearity is confirmed, techniques like feature selection, regularization, or Principal Component Analysis (PCA) might be needed.\n",
    "\n",
    "### **Issues to Address:**\n",
    "1. **Multicollinearity**:\n",
    "   - **Issue**: The high correlations between key predictors could lead to multicollinearity in regression models, which could skew the results and reduce model interpretability.\n",
    "   - **Action**: Conduct VIF analysis to check for multicollinearity. If detected, consider removing or combining correlated features, using regularization techniques, or applying PCA to reduce dimensionality.\n",
    "\n",
    "2. **Feature Engineering**:\n",
    "   - **Issue**: Features like `Overall Qual`, which is ordinal, might benefit from specific treatment (e.g., encoding as an ordinal variable) rather than being treated as continuous.\n",
    "   - **Action**: Consider encoding `Overall Qual` as an ordinal variable. Also, explore interactions between features like `Gr Liv Area` and `Total Bsmt SF` to capture more complex relationships.\n",
    "\n",
    "3. **Outliers**:\n",
    "   - **Issue**: The pair plots indicate potential outliers, especially in `Gr Liv Area` and `SalePrice`. These could be high-leverage points that unduly influence model performance.\n",
    "   - **Action**: Identify and analyze outliers to determine if they should be removed or if the model should be adjusted to account for them (e.g., using robust regression techniques)."
   ]
  },
  {
   "cell_type": "code",
   "execution_count": null,
   "metadata": {},
   "outputs": [],
   "source": []
  }
 ],
 "metadata": {
  "kernelspec": {
   "display_name": "prices-predictor-system",
   "language": "python",
   "name": "python3"
  },
  "language_info": {
   "codemirror_mode": {
    "name": "ipython",
    "version": 3
   },
   "file_extension": ".py",
   "mimetype": "text/x-python",
   "name": "python",
   "nbconvert_exporter": "python",
   "pygments_lexer": "ipython3",
   "version": "3.8.15"
  },
  "orig_nbformat": 4
 },
 "nbformat": 4,
 "nbformat_minor": 2
}
